{
 "cells": [
  {
   "cell_type": "code",
   "execution_count": 4,
   "metadata": {},
   "outputs": [],
   "source": [
    "import pandas as pd\n",
    "from airflow import DAG\n",
    "from airflow.operators.python import PythonOperator\n",
    "from airflow.providers.github.hooks.github import GithubHook\n",
    "import datetime\n",
    "def load_to_github():\n",
    "    # Cargar el archivo CSV en un dataframe de pandas\n",
    "    df = pd.read_csv(\"https://raw.githubusercontent.com/Lina-Arroyo/PruebaTecnica/main/Data/Traffic_Flow_Map_Volumes.csv\")\n",
    "\n",
    "    # Conectar con GitHub\n",
    "    hook = GithubHook(github_conn_id=\"ConecctionGit\")\n",
    "    repo = hook.get_repo(\"Lina-Arroyo/PruebaTecnica\")\n",
    "\n",
    "    # Escribir el dataframe en el repositorio de GitHub\n",
    "    file = repo.get_contents(\"Data-transformed/Traffic_Flow_Map_Volumes_TRANSFORMED.csv\")\n",
    "    repo.update_file(file.path, \"commit message\", df.to_csv(index=False), file.sha)"
   ]
  },
  {
   "cell_type": "code",
   "execution_count": 5,
   "metadata": {},
   "outputs": [
    {
     "ename": "AirflowNotFoundException",
     "evalue": "The conn_id `ConecctionGit` isn't defined",
     "output_type": "error",
     "traceback": [
      "\u001b[1;31m---------------------------------------------------------------------------\u001b[0m",
      "\u001b[1;31mAirflowNotFoundException\u001b[0m                  Traceback (most recent call last)",
      "\u001b[1;32mc:\\Users\\Lina_\\OneDrive\\Escritorio\\PruebaTecnica\\dags\\prueba.ipynb Celda 2\u001b[0m in \u001b[0;36m<cell line: 1>\u001b[1;34m()\u001b[0m\n\u001b[1;32m----> <a href='vscode-notebook-cell:/c%3A/Users/Lina_/OneDrive/Escritorio/PruebaTecnica/dags/prueba.ipynb#W2sZmlsZQ%3D%3D?line=0'>1</a>\u001b[0m load_to_github()\n",
      "\u001b[1;32mc:\\Users\\Lina_\\OneDrive\\Escritorio\\PruebaTecnica\\dags\\prueba.ipynb Celda 2\u001b[0m in \u001b[0;36mload_to_github\u001b[1;34m()\u001b[0m\n\u001b[0;32m      <a href='vscode-notebook-cell:/c%3A/Users/Lina_/OneDrive/Escritorio/PruebaTecnica/dags/prueba.ipynb#W2sZmlsZQ%3D%3D?line=7'>8</a>\u001b[0m df \u001b[39m=\u001b[39m pd\u001b[39m.\u001b[39mread_csv(\u001b[39m\"\u001b[39m\u001b[39mhttps://raw.githubusercontent.com/Lina-Arroyo/PruebaTecnica/main/Data/Traffic_Flow_Map_Volumes.csv\u001b[39m\u001b[39m\"\u001b[39m)\n\u001b[0;32m     <a href='vscode-notebook-cell:/c%3A/Users/Lina_/OneDrive/Escritorio/PruebaTecnica/dags/prueba.ipynb#W2sZmlsZQ%3D%3D?line=9'>10</a>\u001b[0m \u001b[39m# Conectar con GitHub\u001b[39;00m\n\u001b[1;32m---> <a href='vscode-notebook-cell:/c%3A/Users/Lina_/OneDrive/Escritorio/PruebaTecnica/dags/prueba.ipynb#W2sZmlsZQ%3D%3D?line=10'>11</a>\u001b[0m hook \u001b[39m=\u001b[39m GithubHook(github_conn_id\u001b[39m=\u001b[39;49m\u001b[39m\"\u001b[39;49m\u001b[39mConecctionGit\u001b[39;49m\u001b[39m\"\u001b[39;49m)\n\u001b[0;32m     <a href='vscode-notebook-cell:/c%3A/Users/Lina_/OneDrive/Escritorio/PruebaTecnica/dags/prueba.ipynb#W2sZmlsZQ%3D%3D?line=11'>12</a>\u001b[0m repo \u001b[39m=\u001b[39m hook\u001b[39m.\u001b[39mget_repo(\u001b[39m\"\u001b[39m\u001b[39mLina-Arroyo/PruebaTecnica\u001b[39m\u001b[39m\"\u001b[39m)\n\u001b[0;32m     <a href='vscode-notebook-cell:/c%3A/Users/Lina_/OneDrive/Escritorio/PruebaTecnica/dags/prueba.ipynb#W2sZmlsZQ%3D%3D?line=13'>14</a>\u001b[0m \u001b[39m# Escribir el dataframe en el repositorio de GitHub\u001b[39;00m\n",
      "File \u001b[1;32mc:\\Users\\Lina_\\AppData\\Local\\Programs\\Python\\Python310\\lib\\site-packages\\airflow\\providers\\github\\hooks\\github.py:47\u001b[0m, in \u001b[0;36mGithubHook.__init__\u001b[1;34m(self, github_conn_id, *args, **kwargs)\u001b[0m\n\u001b[0;32m     45\u001b[0m \u001b[39mself\u001b[39m\u001b[39m.\u001b[39mgithub_conn_id \u001b[39m=\u001b[39m github_conn_id\n\u001b[0;32m     46\u001b[0m \u001b[39mself\u001b[39m\u001b[39m.\u001b[39mclient: GithubClient \u001b[39m|\u001b[39m \u001b[39mNone\u001b[39;00m \u001b[39m=\u001b[39m \u001b[39mNone\u001b[39;00m\n\u001b[1;32m---> 47\u001b[0m \u001b[39mself\u001b[39;49m\u001b[39m.\u001b[39;49mget_conn()\n",
      "File \u001b[1;32mc:\\Users\\Lina_\\AppData\\Local\\Programs\\Python\\Python310\\lib\\site-packages\\airflow\\providers\\github\\hooks\\github.py:54\u001b[0m, in \u001b[0;36mGithubHook.get_conn\u001b[1;34m(self)\u001b[0m\n\u001b[0;32m     51\u001b[0m \u001b[39mif\u001b[39;00m \u001b[39mself\u001b[39m\u001b[39m.\u001b[39mclient \u001b[39mis\u001b[39;00m \u001b[39mnot\u001b[39;00m \u001b[39mNone\u001b[39;00m:\n\u001b[0;32m     52\u001b[0m     \u001b[39mreturn\u001b[39;00m \u001b[39mself\u001b[39m\u001b[39m.\u001b[39mclient\n\u001b[1;32m---> 54\u001b[0m conn \u001b[39m=\u001b[39m \u001b[39mself\u001b[39;49m\u001b[39m.\u001b[39;49mget_connection(\u001b[39mself\u001b[39;49m\u001b[39m.\u001b[39;49mgithub_conn_id)\n\u001b[0;32m     55\u001b[0m access_token \u001b[39m=\u001b[39m conn\u001b[39m.\u001b[39mpassword\n\u001b[0;32m     56\u001b[0m host \u001b[39m=\u001b[39m conn\u001b[39m.\u001b[39mhost\n",
      "File \u001b[1;32mc:\\Users\\Lina_\\AppData\\Local\\Programs\\Python\\Python310\\lib\\site-packages\\airflow\\hooks\\base.py:72\u001b[0m, in \u001b[0;36mBaseHook.get_connection\u001b[1;34m(cls, conn_id)\u001b[0m\n\u001b[0;32m     64\u001b[0m \u001b[39m\"\"\"\u001b[39;00m\n\u001b[0;32m     65\u001b[0m \u001b[39mGet connection, given connection id.\u001b[39;00m\n\u001b[0;32m     66\u001b[0m \n\u001b[0;32m     67\u001b[0m \u001b[39m:param conn_id: connection id\u001b[39;00m\n\u001b[0;32m     68\u001b[0m \u001b[39m:return: connection\u001b[39;00m\n\u001b[0;32m     69\u001b[0m \u001b[39m\"\"\"\u001b[39;00m\n\u001b[0;32m     70\u001b[0m \u001b[39mfrom\u001b[39;00m \u001b[39mairflow\u001b[39;00m\u001b[39m.\u001b[39;00m\u001b[39mmodels\u001b[39;00m\u001b[39m.\u001b[39;00m\u001b[39mconnection\u001b[39;00m \u001b[39mimport\u001b[39;00m Connection\n\u001b[1;32m---> 72\u001b[0m conn \u001b[39m=\u001b[39m Connection\u001b[39m.\u001b[39;49mget_connection_from_secrets(conn_id)\n\u001b[0;32m     73\u001b[0m log\u001b[39m.\u001b[39minfo(\u001b[39m\"\u001b[39m\u001b[39mUsing connection ID \u001b[39m\u001b[39m'\u001b[39m\u001b[39m%s\u001b[39;00m\u001b[39m'\u001b[39m\u001b[39m for task execution.\u001b[39m\u001b[39m\"\u001b[39m, conn\u001b[39m.\u001b[39mconn_id)\n\u001b[0;32m     74\u001b[0m \u001b[39mreturn\u001b[39;00m conn\n",
      "File \u001b[1;32mc:\\Users\\Lina_\\AppData\\Local\\Programs\\Python\\Python310\\lib\\site-packages\\airflow\\models\\connection.py:432\u001b[0m, in \u001b[0;36mConnection.get_connection_from_secrets\u001b[1;34m(cls, conn_id)\u001b[0m\n\u001b[0;32m    425\u001b[0m     \u001b[39mexcept\u001b[39;00m \u001b[39mException\u001b[39;00m:\n\u001b[0;32m    426\u001b[0m         log\u001b[39m.\u001b[39mexception(\n\u001b[0;32m    427\u001b[0m             \u001b[39m\"\u001b[39m\u001b[39mUnable to retrieve connection from secrets backend (\u001b[39m\u001b[39m%s\u001b[39;00m\u001b[39m). \u001b[39m\u001b[39m\"\u001b[39m\n\u001b[0;32m    428\u001b[0m             \u001b[39m\"\u001b[39m\u001b[39mChecking subsequent secrets backend.\u001b[39m\u001b[39m\"\u001b[39m,\n\u001b[0;32m    429\u001b[0m             \u001b[39mtype\u001b[39m(secrets_backend)\u001b[39m.\u001b[39m\u001b[39m__name__\u001b[39m,\n\u001b[0;32m    430\u001b[0m         )\n\u001b[1;32m--> 432\u001b[0m \u001b[39mraise\u001b[39;00m AirflowNotFoundException(\u001b[39mf\u001b[39m\u001b[39m\"\u001b[39m\u001b[39mThe conn_id `\u001b[39m\u001b[39m{\u001b[39;00mconn_id\u001b[39m}\u001b[39;00m\u001b[39m` isn\u001b[39m\u001b[39m'\u001b[39m\u001b[39mt defined\u001b[39m\u001b[39m\"\u001b[39m)\n",
      "\u001b[1;31mAirflowNotFoundException\u001b[0m: The conn_id `ConecctionGit` isn't defined"
     ]
    }
   ],
   "source": [
    "load_to_github()"
   ]
  },
  {
   "cell_type": "code",
   "execution_count": null,
   "metadata": {},
   "outputs": [],
   "source": [
    "import pandas as pd\n",
    "from airflow.operators.bash import BashOperator\n",
    " \n",
    "def save_dataframe_to_csv():\n",
    "    # Load dataframe from source\n",
    "    df = pd.read_csv(\"https://raw.githubusercontent.com/Lina-Arroyo/PruebaTecnica/main/Data/Traffic_Flow_Map_Volumes.csv\")\n",
    "\n",
    "\n",
    "save_dataframe_to_csv_operator = PythonOperator(\n",
    "    task_id='save_dataframe_to_csv',\n",
    "    python_callable=save_dataframe_to_csv,\n",
    "    dag=dag\n",
    ")\n",
    "\n",
    "add_to_github_operator = BashOperator(\n",
    "    task_id='add_to_github',\n",
    "    bash_command='cd PruebaTecnica/Data-transformed/ && git add Traffic_Flow_Map_Volumes_TRANSFORMED.csv && git commit -m \"Data transformada subida con exito\" && git push',\n",
    "    dag=dag\n",
    ")\n",
    "\n",
    "save_dataframe_to_csv_operator >> add_to_github_operator\n"
   ]
  }
 ],
 "metadata": {
  "kernelspec": {
   "display_name": "Python 3",
   "language": "python",
   "name": "python3"
  },
  "language_info": {
   "codemirror_mode": {
    "name": "ipython",
    "version": 3
   },
   "file_extension": ".py",
   "mimetype": "text/x-python",
   "name": "python",
   "nbconvert_exporter": "python",
   "pygments_lexer": "ipython3",
   "version": "3.10.4"
  },
  "orig_nbformat": 4
 },
 "nbformat": 4,
 "nbformat_minor": 2
}
